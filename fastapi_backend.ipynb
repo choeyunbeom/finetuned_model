{
 "cells": [
  {
   "cell_type": "code",
   "execution_count": 1,
   "id": "484a6514-c4a4-4549-b205-18223b79a475",
   "metadata": {},
   "outputs": [],
   "source": [
    "import requests\n",
    "import json"
   ]
  },
  {
   "cell_type": "code",
   "execution_count": 18,
   "id": "909df8b3-c0e5-419c-900e-06250e80cb2e",
   "metadata": {},
   "outputs": [],
   "source": [
    "prompt =\"\"\"\n",
    "\n",
    "\"\"\""
   ]
  },
  {
   "cell_type": "code",
   "execution_count": 4,
   "id": "d0e8d62f-efdf-49ba-b095-2a2fb1ea4bc2",
   "metadata": {},
   "outputs": [
    {
     "data": {
      "text/plain": [
       "<Response [200]>"
      ]
     },
     "execution_count": 4,
     "metadata": {},
     "output_type": "execute_result"
    }
   ],
   "source": [
    "url = 'http://192.168.1.251:5000/title'\n",
    "\n",
    "\n",
    "params = {'passage' : prompt}\n",
    "headers = {'accept': 'application/json',\n",
    "           'Content-Type': 'application/json'}\n",
    "\n",
    "res = requests.post(url, data = json.dumps(params), headers = headers)\n",
    "res.json()"
   ]
  },
  {
   "cell_type": "code",
   "execution_count": 6,
   "id": "2b3a20a1-386a-4281-a2eb-c5b705350085",
   "metadata": {},
   "outputs": [],
   "source": []
  },
  {
   "cell_type": "code",
   "execution_count": 10,
   "id": "018d34d7-a745-4431-b85c-a305078bf449",
   "metadata": {},
   "outputs": [
    {
     "data": {
      "text/plain": [
       "1.23e-125"
      ]
     },
     "execution_count": 10,
     "metadata": {},
     "output_type": "execute_result"
    }
   ],
   "source": [
    "a"
   ]
  },
  {
   "cell_type": "code",
   "execution_count": null,
   "id": "b673182f-8210-4c39-9dcc-9dac4f853dcd",
   "metadata": {},
   "outputs": [],
   "source": []
  },
  {
   "cell_type": "code",
   "execution_count": null,
   "id": "8ba88d80-147a-4817-89b1-df43ca3c7acb",
   "metadata": {},
   "outputs": [],
   "source": []
  }
 ],
 "metadata": {
  "kernelspec": {
   "display_name": "Python 3 (ipykernel)",
   "language": "python",
   "name": "python3"
  },
  "language_info": {
   "codemirror_mode": {
    "name": "ipython",
    "version": 3
   },
   "file_extension": ".py",
   "mimetype": "text/x-python",
   "name": "python",
   "nbconvert_exporter": "python",
   "pygments_lexer": "ipython3",
   "version": "3.12.4"
  }
 },
 "nbformat": 4,
 "nbformat_minor": 5
}
