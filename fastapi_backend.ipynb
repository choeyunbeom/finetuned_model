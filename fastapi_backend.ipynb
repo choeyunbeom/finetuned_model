{
 "cells": [
  {
   "cell_type": "code",
   "execution_count": 1,
   "id": "484a6514-c4a4-4549-b205-18223b79a475",
   "metadata": {},
   "outputs": [],
   "source": [
    "import requests\n",
    "import json"
   ]
  },
  {
   "cell_type": "code",
   "execution_count": 18,
   "id": "909df8b3-c0e5-419c-900e-06250e80cb2e",
   "metadata": {},
   "outputs": [],
   "source": [
    "prompt =\"\"\"\n",
    "\n",
    "\"\"\""
   ]
  },
  {
   "cell_type": "code",
   "execution_count": 4,
   "id": "d0e8d62f-efdf-49ba-b095-2a2fb1ea4bc2",
   "metadata": {},
   "outputs": [
    {
     "data": {
      "text/plain": [
       "<Response [200]>"
      ]
     },
     "execution_count": 4,
     "metadata": {},
     "output_type": "execute_result"
    }
   ],
   "source": [
    "url = 'your_url/title'\n",
    "\n",
    "\n",
    "params = {'passage' : prompt}\n",
    "headers = {'accept': 'application/json',\n",
    "           'Content-Type': 'application/json'}\n",
    "\n",
    "res = requests.post(url, data = json.dumps(params), headers = headers)\n",
    "res.json()"
   ]
  },
  {
   "cell_type": "markdown",
   "id": "8ba88d80-147a-4817-89b1-df43ca3c7acb",
   "metadata": {},
   "source": []
  }
 ],
 "metadata": {
  "kernelspec": {
   "display_name": "Python 3 (ipykernel)",
   "language": "python",
   "name": "python3"
  },
  "language_info": {
   "codemirror_mode": {
    "name": "ipython",
    "version": 3
   },
   "file_extension": ".py",
   "mimetype": "text/x-python",
   "name": "python",
   "nbconvert_exporter": "python",
   "pygments_lexer": "ipython3",
   "version": "3.12.4"
  }
 },
 "nbformat": 4,
 "nbformat_minor": 5
}
